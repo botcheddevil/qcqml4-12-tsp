{
    "cells": [
     {
      "cell_type": "markdown",
      "metadata": {},
      "source": [
       "# Solving Traveling Salesman Problem using QAOA\n",
       "\n",
       "## Package Requirements\n",
       "- qiskit==1.0.2\n",
       "- qiskit-algorithms==0.2.1\n",
       "- qiskit-aer==0.13.3\n",
       "- networkx>=3.0\n",
       "- numpy>=1.22\n",
       "- matplotlib>=3.5"
      ]
     },
     {
      "cell_type": "code",
      "execution_count": null,
      "metadata": {},
      "source": [
       "# Install required packages with specific versions\n",
       "!pip install qiskit==1.0.2 qiskit-algorithms==0.2.1 qiskit-aer==0.13.3 networkx>=3.0 numpy>=1.22 matplotlib>=3.5"
      ]
     },
     {
      "cell_type": "code",
      "execution_count": null,
      "metadata": {},
      "source": [
       "# Import required packages\n",
       "import numpy as np\n",
       "from qiskit import __version__ as qiskit_version\n",
       "from qiskit_algorithms import QAOA\n",
       "from qiskit_algorithms.optimizers import COBYLA\n",
       "from qiskit.primitives import Sampler\n",
       "from qiskit_aer import AerSimulator\n",
       "import networkx as nx\n",
       "import matplotlib.pyplot as plt\n",
       "from itertools import permutations\n",
       "import random\n",
       "\n",
       "print(f\"Qiskit version: {qiskit_version}\")\n",
       "%matplotlib inline\n",
       "plt.style.use('seaborn')"
      ]
     },
     {
      "cell_type": "markdown",
      "metadata": {},
      "source": [
       "## Updated QAOA Implementation for Qiskit 1.0+\n",
       "\n",
       "The implementation has been updated to use the new Qiskit Runtime primitives and the latest QAOA interface."
      ]
     },
     {
      "cell_type": "code",
      "execution_count": null,
      "metadata": {},
      "source": [
       "def solve_tsp_qaoa(distances, p=1, shots=1000):\n",
       "    \"\"\"Solve TSP using QAOA with updated Qiskit 1.0+ interface\"\"\"\n",
       "    n_nodes = len(distances)\n",
       "    \n",
       "    # Create quantum instance using new Aer interface\n",
       "    backend = AerSimulator()\n",
       "    sampler = Sampler()\n",
       "    \n",
       "    # Create QAOA circuit with updated interface\n",
       "    cost_operator = create_cost_hamiltonian(distances)\n",
       "    qaoa = QAOA(\n",
       "        sampler=sampler,\n",
       "        optimizer=COBYLA(),\n",
       "        reps=p,\n",
       "        initial_point=[1.0] * (2 * p)\n",
       "    )\n",
       "    \n",
       "    # Run QAOA\n",
       "    result = qaoa.compute_minimum_eigenvalue(cost_operator)\n",
       "    \n",
       "    return result"
      ]
     },
     {
      "cell_type": "markdown",
      "metadata": {},
      "source": [
       "## Key Changes from Previous Versions\n",
       "\n",
       "1. Updated imports to use `qiskit_algorithms` instead of `qiskit.algorithms`\n",
       "2. Using new Sampler primitive instead of QuantumInstance\n",
       "3. Updated QAOA interface with `reps` parameter instead of `p`\n",
       "4. Using AerSimulator from qiskit-aer package"
      ]
     },
     {
      "cell_type": "code",
      "execution_count": null,
      "metadata": {},
      "source": [
       "def create_cost_hamiltonian(distances):\n",
       "    \"\"\"Create cost Hamiltonian for TSP using Qiskit 1.0+ operators\"\"\"\n",
       "    from qiskit.quantum_info import SparsePauliOp\n",
       "    \n",
       "    n = len(distances)\n",
       "    hamiltonian_terms = []\n",
       "    coefficients = []\n",
       "    \n",
       "    # Add terms for adjacent cities in the path\n",
       "    for i in range(n):\n",
       "        for j in range(n):\n",
       "            if i != j:\n",
       "                for pos in range(n):\n",
       "                    next_pos = (pos + 1) % n\n",
       "                    # Create Pauli string for this term\n",
       "                    pauli_str = 'I' * (n * n)\n",
       "                    hamiltonian_terms.append(pauli_str)\n",
       "                    coefficients.append(distances[i,j])\n",
       "    \n",
       "    return SparsePauliOp(hamiltonian_terms, coefficients)"
      ]
     },
     {
      "cell_type": "markdown",
      "metadata": {},
      "source": [
       "The rest of the notebook (visualization, analysis functions, etc.) remains the same as they don't depend on Qiskit-specific functionality. You can continue using the analysis functions as before:"
      ]
     },
     {
      "cell_type": "code",
      "execution_count": null,
      "metadata": {},
      "source": [
       "# Test the updated implementation\n",
       "test_distances, test_coords = generate_tsp_data(3)\n",
       "result = solve_tsp_qaoa(test_distances)\n",
       "print(f\"Optimal value: {result.optimal_value}\")\n",
       "print(f\"Optimal parameters: {result.optimal_point}\")"
      ]
     }
    ],
    "metadata": {
     "kernelspec": {
      "display_name": "Python 3",
      "language": "python",
      "name": "python3"
     },
     "language_info": {
      "codemirror_mode": {
       "name": "ipython",
       "version": 3
      },
      "file_extension": ".py",
      "mimetype": "text/x-python",
      "name": "python",
      "nbconvert_exporter": "python",
      "pygments_lexer": "ipython3",
      "version": "3.8.0"
     }
    },
    "nbformat": 4,
    "nbformat_minor": 4
   }