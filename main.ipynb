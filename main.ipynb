{
 "cells": [
  {
   "cell_type": "markdown",
   "metadata": {},
   "source": [
    "# Solving Traveling Salesman Problem using QAOA\n",
    "\n",
    "## Package Requirements\n",
    "- qiskit==1.0.2\n",
    "- qiskit-algorithms==0.2.1\n",
    "- qiskit-aer==0.13.3\n",
    "- networkx>=3.0\n",
    "- numpy>=1.22\n",
    "- matplotlib>=3.5"
   ]
  },
  {
   "cell_type": "code",
   "execution_count": 3,
   "metadata": {},
   "outputs": [
    {
     "name": "stdout",
     "output_type": "stream",
     "text": [
      "zsh:1: 3.0 not found\n"
     ]
    }
   ],
   "source": [
    "# Install required packages with specific versions\n",
    "!pip install qiskit==1.0.2 qiskit-algorithms==0.2.1 qiskit-aer==0.13.3 networkx>=3.0 numpy>=1.22 matplotlib>=3.5"
   ]
  },
  {
   "cell_type": "code",
   "execution_count": 8,
   "metadata": {},
   "outputs": [
    {
     "name": "stdout",
     "output_type": "stream",
     "text": [
      "Qiskit version: 1.2.4\n"
     ]
    }
   ],
   "source": [
    "# Import required packages\n",
    "import numpy as np\n",
    "from qiskit import __version__ as qiskit_version\n",
    "from qiskit_algorithms import QAOA\n",
    "from qiskit_algorithms.optimizers import COBYLA\n",
    "from qiskit.primitives import Sampler\n",
    "from qiskit_aer import AerSimulator\n",
    "import networkx as nx\n",
    "import matplotlib.pyplot as plt\n",
    "from itertools import permutations\n",
    "import random\n",
    "\n",
    "print(f\"Qiskit version: {qiskit_version}\")\n",
    "%matplotlib inline\n",
    "plt.style.use('classic')"
   ]
  },
  {
   "cell_type": "code",
   "execution_count": 12,
   "metadata": {},
   "outputs": [],
   "source": [
    "def generate_tsp_data(n_nodes):\n",
    "    \"\"\"Generate random TSP instance\"\"\"\n",
    "    coordinates = [(random.uniform(0, 10), random.uniform(0, 10)) for _ in range(n_nodes)]\n",
    "    distances = np.zeros((n_nodes, n_nodes))\n",
    "    for i in range(n_nodes):\n",
    "        for j in range(n_nodes):\n",
    "            if i != j:\n",
    "                x1, y1 = coordinates[i]\n",
    "                x2, y2 = coordinates[j]\n",
    "                distances[i,j] = np.sqrt((x2-x1)**2 + (y2-y1)**2)\n",
    "    return distances, coordinates"
   ]
  },
  {
   "cell_type": "markdown",
   "metadata": {},
   "source": [
    "## Updated QAOA Implementation for Qiskit 1.0+\n",
    "\n",
    "The implementation has been updated to use the new Qiskit Runtime primitives and the latest QAOA interface."
   ]
  },
  {
   "cell_type": "code",
   "execution_count": 13,
   "metadata": {},
   "outputs": [],
   "source": [
    "def solve_tsp_qaoa(distances, p=1, shots=1000):\n",
    "    \"\"\"Solve TSP using QAOA with updated Qiskit 1.0+ interface\"\"\"\n",
    "    n_nodes = len(distances)\n",
    "    \n",
    "    # Create quantum instance using new Aer interface\n",
    "    backend = AerSimulator()\n",
    "    sampler = Sampler()\n",
    "    \n",
    "    # Create QAOA circuit with updated interface\n",
    "    cost_operator = create_cost_hamiltonian(distances)\n",
    "    qaoa = QAOA(\n",
    "        sampler=sampler,\n",
    "        optimizer=COBYLA(),\n",
    "        reps=p,\n",
    "        initial_point=[1.0] * (2 * p)\n",
    "    )\n",
    "    \n",
    "    # Run QAOA\n",
    "    result = qaoa.compute_minimum_eigenvalue(cost_operator)\n",
    "    \n",
    "    return result"
   ]
  },
  {
   "cell_type": "markdown",
   "metadata": {},
   "source": [
    "## Key Changes from Previous Versions\n",
    "\n",
    "1. Updated imports to use `qiskit_algorithms` instead of `qiskit.algorithms`\n",
    "2. Using new Sampler primitive instead of QuantumInstance\n",
    "3. Updated QAOA interface with `reps` parameter instead of `p`\n",
    "4. Using AerSimulator from qiskit-aer package"
   ]
  },
  {
   "cell_type": "code",
   "execution_count": 14,
   "metadata": {},
   "outputs": [],
   "source": [
    "def create_cost_hamiltonian(distances):\n",
    "    \"\"\"Create cost Hamiltonian for TSP using Qiskit 1.0+ operators\"\"\"\n",
    "    from qiskit.quantum_info import SparsePauliOp\n",
    "    \n",
    "    n = len(distances)\n",
    "    hamiltonian_terms = []\n",
    "    coefficients = []\n",
    "    \n",
    "    # Add terms for adjacent cities in the path\n",
    "    for i in range(n):\n",
    "        for j in range(n):\n",
    "            if i != j:\n",
    "                for pos in range(n):\n",
    "                    next_pos = (pos + 1) % n\n",
    "                    # Create Pauli string for this term\n",
    "                    pauli_str = 'I' * (n * n)\n",
    "                    hamiltonian_terms.append(pauli_str)\n",
    "                    coefficients.append(distances[i,j])\n",
    "    \n",
    "    return SparsePauliOp(hamiltonian_terms, coefficients)"
   ]
  },
  {
   "cell_type": "code",
   "execution_count": 17,
   "metadata": {},
   "outputs": [],
   "source": [
    "def analyze_results(sizes=[3, 4, 5]):\n",
    "    \"\"\"Analyze QAOA performance for different problem sizes\"\"\"\n",
    "    results = []\n",
    "    \n",
    "    for size in sizes:\n",
    "        print(f\"\\nAnalyzing TSP with {size} nodes...\")\n",
    "        \n",
    "        # Generate problem instance\n",
    "        distances, coords = generate_tsp_data(size)\n",
    "        \n",
    "        # Solve using QAOA\n",
    "        qaoa_result = solve_tsp_qaoa(distances)\n",
    "        qaoa_cost = qaoa_result.optimal_value\n",
    "        \n",
    "        # Solve exactly (for small instances)\n",
    "        if size <= 5:\n",
    "            exact_cost = float('inf')\n",
    "            for path in permutations(range(size)):\n",
    "                cost = sum(distances[path[i]][path[i+1]] for i in range(size-1))\n",
    "                cost += distances[path[-1]][path[0]]  # Return to start\n",
    "                exact_cost = min(exact_cost, cost)\n",
    "        else:\n",
    "            exact_cost = None\n",
    "        \n",
    "        results.append({\n",
    "            'size': size,\n",
    "            'qaoa_cost': qaoa_cost,\n",
    "            'exact_cost': exact_cost,\n",
    "            'relative_error': abs(qaoa_cost - exact_cost)/exact_cost if exact_cost else None\n",
    "        })\n",
    "        \n",
    "        print(f\"QAOA solution cost: {qaoa_cost:.2f}\")\n",
    "        if exact_cost:\n",
    "            print(f\"Exact solution cost: {exact_cost:.2f}\")\n",
    "            print(f\"Relative error: {results[-1]['relative_error']*100:.2f}%\")\n",
    "    \n",
    "    return results"
   ]
  },
  {
   "cell_type": "markdown",
   "metadata": {},
   "source": [
    "The rest of the notebook (visualization, analysis functions, etc.) remains the same as they don't depend on Qiskit-specific functionality. You can continue using the analysis functions as before:"
   ]
  },
  {
   "cell_type": "code",
   "execution_count": 15,
   "metadata": {},
   "outputs": [
    {
     "name": "stdout",
     "output_type": "stream",
     "text": [
      "Optimal value: 80.83693238611887\n",
      "Optimal parameters: [1. 1.]\n"
     ]
    }
   ],
   "source": [
    "# Test the updated implementation\n",
    "test_distances, test_coords = generate_tsp_data(3)\n",
    "result = solve_tsp_qaoa(test_distances)\n",
    "print(f\"Optimal value: {result.optimal_value}\")\n",
    "print(f\"Optimal parameters: {result.optimal_point}\")"
   ]
  },
  {
   "cell_type": "code",
   "execution_count": 18,
   "metadata": {},
   "outputs": [
    {
     "name": "stdout",
     "output_type": "stream",
     "text": [
      "\n",
      "Analyzing TSP with 3 nodes...\n",
      "QAOA solution cost: 119.07\n",
      "Exact solution cost: 19.85\n",
      "Relative error: 500.00%\n",
      "\n",
      "Analyzing TSP with 4 nodes...\n",
      "QAOA solution cost: 155.00\n",
      "Exact solution cost: 12.66\n",
      "Relative error: 1124.57%\n",
      "\n",
      "Analyzing TSP with 5 nodes...\n",
      "QAOA solution cost: 681.98\n",
      "Exact solution cost: 26.90\n",
      "Relative error: 2434.88%\n"
     ]
    },
    {
     "data": {
      "image/png": "[encoded data removed]",
      "text/plain": [
       "<Figure size 800x480 with 1 Axes>"
      ]
     },
     "metadata": {},
     "output_type": "display_data"
    }
   ],
   "source": [
    "# Run analysis\n",
    "analysis_results = analyze_results()\n",
    "\n",
    "# Plot results\n",
    "sizes = [r['size'] for r in analysis_results]\n",
    "errors = [r['relative_error']*100 for r in analysis_results]\n",
    "\n",
    "plt.figure(figsize=(10, 6))\n",
    "plt.plot(sizes, errors, 'bo-')\n",
    "plt.xlabel('Number of nodes')\n",
    "plt.ylabel('Relative error (%)')\n",
    "plt.title('QAOA Performance vs Problem Size')\n",
    "plt.grid(True)\n",
    "plt.show()"
   ]
  },
  {
   "cell_type": "code",
   "execution_count": null,
   "metadata": {},
   "outputs": [],
   "source": []
  }
 ],
 "metadata": {
  "kernelspec": {
   "display_name": "Python 3 (ipykernel)",
   "language": "python",
   "name": "python3"
  },
  "language_info": {
   "codemirror_mode": {
    "name": "ipython",
    "version": 3
   },
   "file_extension": ".py",
   "mimetype": "text/x-python",
   "name": "python",
   "nbconvert_exporter": "python",
   "pygments_lexer": "ipython3",
   "version": "3.9.20"
  }
 },
 "nbformat": 4,
 "nbformat_minor": 4
}
